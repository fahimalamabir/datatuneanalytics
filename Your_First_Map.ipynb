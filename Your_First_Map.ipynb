{
  "cells": [
    {
      "cell_type": "markdown",
      "metadata": {
        "id": "view-in-github",
        "colab_type": "text"
      },
      "source": [
        "<a href=\"https://colab.research.google.com/github/fahimalamabir/datatuneanalytics/blob/main/Your_First_Map.ipynb\" target=\"_parent\"><img src=\"https://colab.research.google.com/assets/colab-badge.svg\" alt=\"Open In Colab\"/></a>"
      ]
    },
    {
      "source": [
        "\n",
        "# IMPORTANT: RUN THIS CELL IN ORDER TO IMPORT YOUR KAGGLE DATA SOURCES\n",
        "# TO THE CORRECT LOCATION (/kaggle/input) IN YOUR NOTEBOOK,\n",
        "# THEN FEEL FREE TO DELETE THIS CELL.\n",
        "# NOTE: THIS NOTEBOOK ENVIRONMENT DIFFERS FROM KAGGLE'S PYTHON\n",
        "# ENVIRONMENT SO THERE MAY BE MISSING LIBRARIES USED BY YOUR\n",
        "# NOTEBOOK.\n",
        "\n",
        "import os\n",
        "import sys\n",
        "from tempfile import NamedTemporaryFile\n",
        "from urllib.request import urlopen\n",
        "from urllib.parse import unquote, urlparse\n",
        "from urllib.error import HTTPError\n",
        "from zipfile import ZipFile\n",
        "import tarfile\n",
        "import shutil\n",
        "\n",
        "CHUNK_SIZE = 40960\n",
        "DATA_SOURCE_MAPPING = 'geospatial-learn-course-data:https%3A%2F%2Fstorage.googleapis.com%2Fkaggle-data-sets%2F348259%2F695175%2Fbundle%2Farchive.zip%3FX-Goog-Algorithm%3DGOOG4-RSA-SHA256%26X-Goog-Credential%3Dgcp-kaggle-com%2540kaggle-161607.iam.gserviceaccount.com%252F20240415%252Fauto%252Fstorage%252Fgoog4_request%26X-Goog-Date%3D20240415T105813Z%26X-Goog-Expires%3D259200%26X-Goog-SignedHeaders%3Dhost%26X-Goog-Signature%3D1e4503babb16b3e5bd947eb6747dc1dd701372bffe24b6144a9c319eb240c33aa4e83cd7fa435ca45684d0882a8a90be170c35b94ee7d660c112aebddecfc7925daef7b22fb641f05a2968e18f83272ee806aece7d3f851074559d55b5c93a09ebc73c095dc7cf3dbbdd1981a2059f44d1b416ace39b4b59d1479d047e275d6706c948e7f3843a022217a09ce0b155c4944bf9609ba099c9573cd7d223b04349da9acca502a18b872b812cc6bf73a9c3edfa82fd3e4e9812b2e0bc9eb10a96f27dff7b17d46adb208f5a5427cb2fef2e8dce713457b13b8710642a832330d1ff31eeab0eee9047d3a81c4809b1c8b22ee0119b5c0e704c5521670e1335f58636,data-for-datavis:https%3A%2F%2Fstorage.googleapis.com%2Fkaggle-data-sets%2F116573%2F3551030%2Fbundle%2Farchive.zip%3FX-Goog-Algorithm%3DGOOG4-RSA-SHA256%26X-Goog-Credential%3Dgcp-kaggle-com%2540kaggle-161607.iam.gserviceaccount.com%252F20240415%252Fauto%252Fstorage%252Fgoog4_request%26X-Goog-Date%3D20240415T105813Z%26X-Goog-Expires%3D259200%26X-Goog-SignedHeaders%3Dhost%26X-Goog-Signature%3D323730b4f70b278d67b4fee0050ec3b40e6520ae5b6bf60847f915df91ffbb42da91823043ceaf3394599fef8bc9822ac078864a6e2903eaf4eba29d041cbf121b16321bd728ded8d676e5125f0ffb7b8f4bcbba3ba82002076ff33864fece07656f1f001624fd792aca80154cfb4185ea6723999b706edbe171288a4672c275b7cd4a6757afc33c340621f7354603adab24d06a8582423be4c571cf683d0cba29d0fdf80049522fd20e938fac6bb61e90baff5893fb83d9b790a07da43c45382be2f51bd41c434076233fe5e11410607a3886fa4dd5a45c90ce3d67cde427774eb3c81750e0395bc5edfb3e173e575254ec57b5d047c582026070435cd977a0'\n",
        "\n",
        "KAGGLE_INPUT_PATH='/kaggle/input'\n",
        "KAGGLE_WORKING_PATH='/kaggle/working'\n",
        "KAGGLE_SYMLINK='kaggle'\n",
        "\n",
        "!umount /kaggle/input/ 2> /dev/null\n",
        "shutil.rmtree('/kaggle/input', ignore_errors=True)\n",
        "os.makedirs(KAGGLE_INPUT_PATH, 0o777, exist_ok=True)\n",
        "os.makedirs(KAGGLE_WORKING_PATH, 0o777, exist_ok=True)\n",
        "\n",
        "try:\n",
        "  os.symlink(KAGGLE_INPUT_PATH, os.path.join(\"..\", 'input'), target_is_directory=True)\n",
        "except FileExistsError:\n",
        "  pass\n",
        "try:\n",
        "  os.symlink(KAGGLE_WORKING_PATH, os.path.join(\"..\", 'working'), target_is_directory=True)\n",
        "except FileExistsError:\n",
        "  pass\n",
        "\n",
        "for data_source_mapping in DATA_SOURCE_MAPPING.split(','):\n",
        "    directory, download_url_encoded = data_source_mapping.split(':')\n",
        "    download_url = unquote(download_url_encoded)\n",
        "    filename = urlparse(download_url).path\n",
        "    destination_path = os.path.join(KAGGLE_INPUT_PATH, directory)\n",
        "    try:\n",
        "        with urlopen(download_url) as fileres, NamedTemporaryFile() as tfile:\n",
        "            total_length = fileres.headers['content-length']\n",
        "            print(f'Downloading {directory}, {total_length} bytes compressed')\n",
        "            dl = 0\n",
        "            data = fileres.read(CHUNK_SIZE)\n",
        "            while len(data) > 0:\n",
        "                dl += len(data)\n",
        "                tfile.write(data)\n",
        "                done = int(50 * dl / int(total_length))\n",
        "                sys.stdout.write(f\"\\r[{'=' * done}{' ' * (50-done)}] {dl} bytes downloaded\")\n",
        "                sys.stdout.flush()\n",
        "                data = fileres.read(CHUNK_SIZE)\n",
        "            if filename.endswith('.zip'):\n",
        "              with ZipFile(tfile) as zfile:\n",
        "                zfile.extractall(destination_path)\n",
        "            else:\n",
        "              with tarfile.open(tfile.name) as tarfile:\n",
        "                tarfile.extractall(destination_path)\n",
        "            print(f'\\nDownloaded and uncompressed: {directory}')\n",
        "    except HTTPError as e:\n",
        "        print(f'Failed to load (likely expired) {download_url} to path {destination_path}')\n",
        "        continue\n",
        "    except OSError as e:\n",
        "        print(f'Failed to load {download_url} to path {destination_path}')\n",
        "        continue\n",
        "\n",
        "print('Data source import complete.')\n"
      ],
      "metadata": {
        "id": "C9JcAgYhaE82"
      },
      "cell_type": "code",
      "outputs": [],
      "execution_count": null
    },
    {
      "cell_type": "markdown",
      "metadata": {
        "id": "rX7pAU7YaE85"
      },
      "source": [
        "# Introduction\n",
        "\n",
        "In this micro-course, you'll learn about different methods to wrangle and visualize **geospatial data**, or data with a geographic location.\n",
        "\n",
        "<center>\n",
        "<img src=\"https://storage.googleapis.com/kaggle-media/learn/images/v6ZUGgI.png\"><br/>\n",
        "</center>\n",
        "\n",
        "Along the way, you'll offer solutions to several real-world problems like:\n",
        "- Where should a global non-profit expand its reach in remote areas of the Philippines?\n",
        "- How do purple martins, a threatened bird species, travel between North and South America?  Are the birds travelling to conservation areas?\n",
        "- Which areas of Japan could potentially benefit from extra earthquake reinforcement?\n",
        "- Which Starbucks stores in California are strong candidates for the next [Starbucks Reserve Roastery](https://www.forbes.com/sites/garystern/2019/01/22/starbucks-reserve-roastery-its-spacious-and-trendy-but-why-is-starbucks-slowing-down-expansion/#6cb80d4a1bc6) location?\n",
        "- Does New York City have sufficient hospitals to respond to motor vehicle collisions?  Which areas of the city have gaps in coverage?\n",
        "\n",
        "You'll also visualize crime in the city of Boston, examine health facilities in Ghana, explore top universities in Europe, and track releases of toxic chemicals in the United States.\n",
        "\n",
        "In this first tutorial, we'll quickly cover the pre-requisites that you'll need to complete this micro-course.  And, if you'd like to review more deeply, we recommend the **[Pandas micro-course](https://www.kaggle.com/learn/pandas)**.  \n",
        "\n",
        "We'll also get started with visualizing our first geospatial dataset!\n",
        "\n",
        "# Reading data\n",
        "\n",
        "The first step is to read in some geospatial data!  To do this, we'll use the [GeoPandas](http://geopandas.org/) library."
      ]
    },
    {
      "cell_type": "code",
      "execution_count": null,
      "metadata": {
        "id": "fPNVELveaE86"
      },
      "outputs": [],
      "source": [
        "import geopandas as gpd"
      ]
    },
    {
      "cell_type": "markdown",
      "metadata": {
        "id": "GQnGe3kTaE87"
      },
      "source": [
        "There are many, many different geospatial file formats, such as [shapefile](https://en.wikipedia.org/wiki/Shapefile), [GeoJSON](https://en.wikipedia.org/wiki/GeoJSON), [KML](https://en.wikipedia.org/wiki/Keyhole_Markup_Language), and [GPKG](https://en.wikipedia.org/wiki/GeoPackage).  We won't discuss their differences in this micro-course, but it's important to mention that:\n",
        "- shapefile is the most common file type that you'll encounter, and\n",
        "- all of these file types can be quickly loaded with the `gpd.read_file()` function.\n",
        "\n",
        "The next code cell loads a shapefile containing information about forests, wilderness areas, and other lands under the care of the [Department of Environmental Conservation](https://www.dec.ny.gov/index.html) in the state of New York.  "
      ]
    },
    {
      "cell_type": "code",
      "execution_count": null,
      "metadata": {
        "id": "K6Vith1naE87"
      },
      "outputs": [],
      "source": [
        "# Read in the data\n",
        "full_data = gpd.read_file(\"../input/geospatial-learn-course-data/DEC_lands/DEC_lands/DEC_lands.shp\")\n",
        "\n",
        "# View the first five rows of the data\n",
        "full_data.head()"
      ]
    },
    {
      "cell_type": "markdown",
      "metadata": {
        "id": "0qNISzg-aE88"
      },
      "source": [
        "As you can see in the \"CLASS\" column, each of the first five rows corresponds to a different forest.  \n",
        "\n",
        "For the rest of this tutorial, consider a scenario where you'd like to use this data to plan a weekend camping trip.  Instead of relying on crowd-sourced reviews online, you decide to create your own map.  This way, you can tailor the trip to your specific interests.\n",
        "\n",
        "# Prerequisites\n",
        "\n",
        "To view the first five rows of the data, we used the `head()` method.  You may recall that this is also what we use to preview a Pandas DataFrame.  In fact, every command that you can use with a DataFrame will work with the data!  \n",
        "\n",
        "This is because the data was loaded into a (GeoPandas) **GeoDataFrame** object that has all of the capabilities of a (Pandas) DataFrame."
      ]
    },
    {
      "cell_type": "code",
      "execution_count": null,
      "metadata": {
        "id": "f24OhcX2aE88"
      },
      "outputs": [],
      "source": [
        "type(full_data)"
      ]
    },
    {
      "cell_type": "markdown",
      "metadata": {
        "id": "yVl4v-hzaE88"
      },
      "source": [
        "For instance, if we don't plan to use all of the columns, we can select a subset of them.  (_To review other methods for selecting data, check out [this tutorial](https://www.kaggle.com/residentmario/indexing-selecting-assigning/) from the Pandas micro-course_.)"
      ]
    },
    {
      "cell_type": "code",
      "execution_count": null,
      "metadata": {
        "id": "A4ZRmaShaE89"
      },
      "outputs": [],
      "source": [
        "data = full_data.loc[:, [\"CLASS\", \"COUNTY\", \"geometry\"]].copy()"
      ]
    },
    {
      "cell_type": "markdown",
      "metadata": {
        "id": "xMNcorUQaE89"
      },
      "source": [
        "We use the `value_counts()` method to see a list of different land types, along with how many times they appear in the dataset. (_To review this (and related methods), check out [this tutorial](https://www.kaggle.com/residentmario/summary-functions-and-maps) from the Pandas micro-course._)"
      ]
    },
    {
      "cell_type": "code",
      "execution_count": null,
      "metadata": {
        "id": "tB1bmBpzaE8-"
      },
      "outputs": [],
      "source": [
        "# How many lands of each type are there?\n",
        "data.CLASS.value_counts()"
      ]
    },
    {
      "cell_type": "markdown",
      "metadata": {
        "id": "c1pgMc9MaE8-"
      },
      "source": [
        "You can also use `loc` (and `iloc`) and `isin` to select subsets of the data.  (_To review this, check out [this tutorial](https://www.kaggle.com/residentmario/indexing-selecting-assigning/) from the Pandas micro-course._)"
      ]
    },
    {
      "cell_type": "code",
      "execution_count": null,
      "metadata": {
        "id": "WMbMf9J1aE8_"
      },
      "outputs": [],
      "source": [
        "# Select lands that fall under the \"WILD FOREST\" or \"WILDERNESS\" category\n",
        "wild_lands = data.loc[data.CLASS.isin(['WILD FOREST', 'WILDERNESS'])].copy()\n",
        "wild_lands.head()"
      ]
    },
    {
      "cell_type": "markdown",
      "metadata": {
        "id": "Y9zhA0kLaE8_"
      },
      "source": [
        "If you're not familiar with the commands above, you are encouraged to bookmark this page for reference, so you can look up the commands as needed.  (_Alternatively, you can take the [Pandas micro-course](https://www.kaggle.com/learn/pandas)._)  We'll use these commands throughout this micro-course to understand and filter data before creating maps.\n",
        "\n",
        "# Create your first map!\n",
        "\n",
        "We can quickly visualize the data with the `plot()` method."
      ]
    },
    {
      "cell_type": "code",
      "execution_count": null,
      "metadata": {
        "id": "IK-hekTdaE8_"
      },
      "outputs": [],
      "source": [
        "wild_lands.plot()"
      ]
    },
    {
      "cell_type": "markdown",
      "metadata": {
        "id": "pKyu5LOtaE9A"
      },
      "source": [
        "Every GeoDataFrame contains a special \"geometry\" column.  It contains all of the geometric objects that are displayed when we call the `plot()` method."
      ]
    },
    {
      "cell_type": "code",
      "execution_count": null,
      "metadata": {
        "id": "BU6eeYsVaE9A"
      },
      "outputs": [],
      "source": [
        "# View the first five entries in the \"geometry\" column\n",
        "wild_lands.geometry.head()"
      ]
    },
    {
      "cell_type": "markdown",
      "metadata": {
        "id": "F8oSwR1kaE9A"
      },
      "source": [
        "While this column can contain a variety of different datatypes, each entry will typically be a **Point**, **LineString**, or **Polygon**.\n",
        "\n",
        "![](https://storage.googleapis.com/kaggle-media/learn/images/N1llefr.png)\n",
        "\n",
        "The \"geometry\" column in our dataset contains 2983 different Polygon objects, each corresponding to a different shape in the plot above.\n",
        "\n",
        "In the code cell below, we create three more GeoDataFrames, containing campsite locations (**Point**), foot trails (**LineString**), and county boundaries (**Polygon**)."
      ]
    },
    {
      "cell_type": "code",
      "execution_count": null,
      "metadata": {
        "_kg_hide-input": false,
        "id": "6_kKc4KFaE9A"
      },
      "outputs": [],
      "source": [
        "# Campsites in New York state (Point)\n",
        "POI_data = gpd.read_file(\"../input/geospatial-learn-course-data/DEC_pointsinterest/DEC_pointsinterest/Decptsofinterest.shp\")\n",
        "campsites = POI_data.loc[POI_data.ASSET=='PRIMITIVE CAMPSITE'].copy()\n",
        "\n",
        "# Foot trails in New York state (LineString)\n",
        "roads_trails = gpd.read_file(\"../input/geospatial-learn-course-data/DEC_roadstrails/DEC_roadstrails/Decroadstrails.shp\")\n",
        "trails = roads_trails.loc[roads_trails.ASSET=='FOOT TRAIL'].copy()\n",
        "\n",
        "# County boundaries in New York state (Polygon)\n",
        "counties = gpd.read_file(\"../input/geospatial-learn-course-data/NY_county_boundaries/NY_county_boundaries/NY_county_boundaries.shp\")"
      ]
    },
    {
      "cell_type": "markdown",
      "metadata": {
        "id": "eyJFZ-xsaE9B"
      },
      "source": [
        "Next, we create a map from all four GeoDataFrames.  \n",
        "\n",
        "The `plot()` method takes as (optional) input several parameters that can be used to customize the appearance.  Most importantly, setting a value for `ax` ensures that all of the information is plotted on the same map."
      ]
    },
    {
      "cell_type": "code",
      "execution_count": null,
      "metadata": {
        "id": "mLIDxhBXaE9B"
      },
      "outputs": [],
      "source": [
        "# Define a base map with county boundaries\n",
        "ax = counties.plot(figsize=(10,10), color='none', edgecolor='gainsboro', zorder=3)\n",
        "\n",
        "# Add wild lands, campsites, and foot trails to the base map\n",
        "wild_lands.plot(color='lightgreen', ax=ax)\n",
        "campsites.plot(color='maroon', markersize=2, ax=ax)\n",
        "trails.plot(color='black', markersize=1, ax=ax)"
      ]
    },
    {
      "cell_type": "markdown",
      "metadata": {
        "id": "N3C6y1A0aE9B"
      },
      "source": [
        "It looks like the northeastern part of the state would be a great option for a camping trip!\n",
        "\n",
        "# Your turn\n",
        "\n",
        "This feels complex at first, but you've already learned enough to do important analysis. See for yourself as you **[identify remote areas](https://www.kaggle.com/kernels/fork/5832167)** of the Philippines where a non-profit can expand its operations."
      ]
    },
    {
      "cell_type": "markdown",
      "metadata": {
        "id": "cOAWRkxRaE9B"
      },
      "source": [
        "---\n",
        "\n",
        "\n",
        "\n",
        "\n",
        "*Have questions or comments? Visit the [course discussion forum](https://www.kaggle.com/learn/geospatial-analysis/discussion) to chat with other learners.*"
      ]
    }
  ],
  "metadata": {
    "kernelspec": {
      "display_name": "Python 3",
      "language": "python",
      "name": "python3"
    },
    "language_info": {
      "codemirror_mode": {
        "name": "ipython",
        "version": 3
      },
      "file_extension": ".py",
      "mimetype": "text/x-python",
      "name": "python",
      "nbconvert_exporter": "python",
      "pygments_lexer": "ipython3",
      "version": "3.6.5"
    },
    "colab": {
      "name": "Your First Map",
      "provenance": [],
      "include_colab_link": true
    }
  },
  "nbformat": 4,
  "nbformat_minor": 0
}